{
 "cells": [
  {
   "cell_type": "markdown",
   "metadata": {},
   "source": [
    "Práctica 1 **Diseño de Algoritmos**\n",
    "1. Agustín Prieto\n",
    "2. Jesús Sanz"
   ]
  },
  {
   "cell_type": "code",
   "execution_count": 2,
   "metadata": {},
   "outputs": [],
   "source": [
    "from time import time\n",
    "import random\n",
    "import statistics\n",
    "import matplotlib.pyplot\n",
    "import numpy as np\n",
    "import pandas as pd"
   ]
  },
  {
   "cell_type": "code",
   "execution_count": 3,
   "metadata": {},
   "outputs": [
    {
     "data": {
      "text/plain": [
       "0.0"
      ]
     },
     "execution_count": 3,
     "metadata": {},
     "output_type": "execute_result"
    }
   ],
   "source": [
    "t = time()\n",
    "1+2\n",
    "t = time()-t\n",
    "t"
   ]
  },
  {
   "cell_type": "markdown",
   "metadata": {},
   "source": [
    "1. Arrays que estén ordenados\n",
    "2. Orden inverso\n",
    "3. Estado aleatorio"
   ]
  },
  {
   "cell_type": "markdown",
   "metadata": {},
   "source": [
    "Desde 100 elementos hasta 2000 con incremento de 100 en 100. Es decir, un total de 20 mediciones para cada caso."
   ]
  },
  {
   "cell_type": "code",
   "execution_count": 10,
   "metadata": {},
   "outputs": [
    {
     "name": "stdout",
     "output_type": "stream",
     "text": [
      "3\n",
      "1\n"
     ]
    }
   ],
   "source": [
    "CONTADOR_PARA_LA_SEMILLA = 0\n",
    "random.seed(CONTADOR_PARA_LA_SEMILLA)\n",
    "print(random.randrange(0,5))\n",
    "CONTADOR_PARA_LA_SEMILLA += 1\n",
    "random.seed(CONTADOR_PARA_LA_SEMILLA)\n",
    "print(random.randrange(0,5))"
   ]
  },
  {
   "cell_type": "markdown",
   "metadata": {},
   "source": [
    "De esta manera, nuestro código es totalmente reproducible."
   ]
  },
  {
   "cell_type": "markdown",
   "metadata": {},
   "source": [
    "Para la media sería interesante lo siguiente"
   ]
  },
  {
   "cell_type": "code",
   "execution_count": 11,
   "metadata": {},
   "outputs": [
    {
     "data": {
      "text/plain": [
       "5.5"
      ]
     },
     "execution_count": 11,
     "metadata": {},
     "output_type": "execute_result"
    }
   ],
   "source": [
    "statistics.mean([1,2,3,4,5,6,7,8,9,10])"
   ]
  },
  {
   "cell_type": "markdown",
   "metadata": {},
   "source": [
    "Es mejor usar `np.mean`"
   ]
  },
  {
   "cell_type": "code",
   "execution_count": 16,
   "metadata": {},
   "outputs": [
    {
     "name": "stdout",
     "output_type": "stream",
     "text": [
      "     Col1 Col2\n",
      "Row1    1    2\n",
      "Row2    3    4\n"
     ]
    }
   ],
   "source": [
    "DATA = np.array([['','Col1','Col2'],\n",
    "                 ['Row1',1,2],\n",
    "                 ['Row2',3,4]])\n",
    "print(pd.DataFrame(data=DATA[1:,1:],\n",
    "                   index = DATA[1:,0],\n",
    "                   columns=DATA[0,1:]))"
   ]
  },
  {
   "cell_type": "code",
   "execution_count": 17,
   "metadata": {},
   "outputs": [
    {
     "data": {
      "text/plain": [
       "array([['', 'Col1', 'Col2'],\n",
       "       ['Row1', '1', '2'],\n",
       "       ['Row2', '3', '4']], dtype='<U21')"
      ]
     },
     "execution_count": 17,
     "metadata": {},
     "output_type": "execute_result"
    }
   ],
   "source": [
    "DATA"
   ]
  },
  {
   "cell_type": "code",
   "execution_count": 18,
   "metadata": {},
   "outputs": [
    {
     "data": {
      "text/plain": [
       "array(['', 'Col1', 'Col2'], dtype='<U21')"
      ]
     },
     "execution_count": 18,
     "metadata": {},
     "output_type": "execute_result"
    }
   ],
   "source": [
    "DATA[0]"
   ]
  },
  {
   "cell_type": "code",
   "execution_count": 19,
   "metadata": {},
   "outputs": [
    {
     "data": {
      "text/plain": [
       "np.str_('')"
      ]
     },
     "execution_count": 19,
     "metadata": {},
     "output_type": "execute_result"
    }
   ],
   "source": [
    "DATA[0][0]"
   ]
  },
  {
   "cell_type": "markdown",
   "metadata": {},
   "source": [
    "Bueno, no nos compliquemos con una BBDD. Hagámoslo lo más sencillo posible y de necesitarla más adelante la volveremos a utilizar. Pero por ahora, simplemente algoritmos."
   ]
  },
  {
   "cell_type": "code",
   "execution_count": null,
   "metadata": {},
   "outputs": [],
   "source": [
    "def Insercion(a,n):\n",
    "    for i in range(1,n):\n",
    "        v=a[i]\n",
    "        j=i-1\n",
    "        while j >= 0 and a[j] > v:\n",
    "            a[j+1] = a[j]\n",
    "            j=j-1\n",
    "        a[j+1]=v"
   ]
  },
  {
   "cell_type": "code",
   "execution_count": 4,
   "metadata": {},
   "outputs": [
    {
     "data": {
      "text/plain": [
       "array([0., 1., 2., 3., 4., 5., 6., 7., 8., 9.])"
      ]
     },
     "execution_count": 4,
     "metadata": {},
     "output_type": "execute_result"
    }
   ],
   "source": [
    "mi_lista = np.zeros([10])\n",
    "#np.append(mi_lista,range(10))\n",
    "for i in range(10):\n",
    "    mi_lista[i] = i\n",
    "mi_lista"
   ]
  },
  {
   "cell_type": "code",
   "execution_count": 8,
   "metadata": {},
   "outputs": [
    {
     "data": {
      "text/plain": [
       "array([9., 8., 7., 6., 5., 4., 3., 2., 1., 0.])"
      ]
     },
     "execution_count": 8,
     "metadata": {},
     "output_type": "execute_result"
    }
   ],
   "source": [
    "mi_lista_invertida = np.zeros([10])\n",
    "#np.append(mi_lista,range(10))\n",
    "j = 0\n",
    "for i in reversed(range(10)):\n",
    "    mi_lista_invertida[j] = i\n",
    "    j += 1\n",
    "mi_lista_invertida"
   ]
  },
  {
   "cell_type": "code",
   "execution_count": 44,
   "metadata": {},
   "outputs": [
    {
     "name": "stdout",
     "output_type": "stream",
     "text": [
      "{0, 1, 2, 3, 4, 5, 6, 7, 8, 9}\n"
     ]
    },
    {
     "data": {
      "text/plain": [
       "array([2., 8., 1., 3., 7., 5., 0., 6., 9., 4.])"
      ]
     },
     "execution_count": 44,
     "metadata": {},
     "output_type": "execute_result"
    }
   ],
   "source": [
    "mi_lista_aleatoria = np.zeros([10])\n",
    "ya_he_puesto_estos = set()\n",
    "#np.append(mi_lista,range(10))\n",
    "CONTADOR_PARA_LA_SEMILLA = 0\n",
    "for i in range(10):\n",
    "    random.seed(CONTADOR_PARA_LA_SEMILLA)\n",
    "    CONTADOR_PARA_LA_SEMILLA += 1\n",
    "    valor_random = random.randrange(0,10)\n",
    "    while valor_random in ya_he_puesto_estos:\n",
    "        random.seed(CONTADOR_PARA_LA_SEMILLA)\n",
    "        CONTADOR_PARA_LA_SEMILLA += 1\n",
    "        valor_random = random.randrange(0,10)\n",
    "    mi_lista_aleatoria[valor_random] = i\n",
    "    ya_he_puesto_estos.add(valor_random)\n",
    "print(ya_he_puesto_estos)\n",
    "mi_lista_aleatoria"
   ]
  },
  {
   "cell_type": "markdown",
   "metadata": {},
   "source": [
    "No sé si admitir números repetidos. Numpy tiene una función que se llama shuffle"
   ]
  },
  {
   "cell_type": "markdown",
   "metadata": {},
   "source": [
    "Usemos shuffle, no tendremos números repetidos"
   ]
  },
  {
   "cell_type": "markdown",
   "metadata": {},
   "source": []
  },
  {
   "cell_type": "code",
   "execution_count": 24,
   "metadata": {},
   "outputs": [
    {
     "data": {
      "text/plain": [
       "array([9., 7., 8., 6., 5., 3., 0., 8., 1., 9.])"
      ]
     },
     "execution_count": 24,
     "metadata": {},
     "output_type": "execute_result"
    }
   ],
   "source": [
    "np.random.shuffle(mi_lista_aleatoria)\n",
    "mi_lista_aleatoria"
   ]
  },
  {
   "cell_type": "markdown",
   "metadata": {},
   "source": [
    "Al final lo solucioné de otra forma"
   ]
  },
  {
   "cell_type": "markdown",
   "metadata": {},
   "source": [
    "# Nuevos horizontes"
   ]
  },
  {
   "cell_type": "markdown",
   "metadata": {},
   "source": [
    "## ¿Cómo hay que estudiar para trabajar en Google? ¿Y en Facebook?"
   ]
  },
  {
   "cell_type": "markdown",
   "metadata": {},
   "source": [
    "### Se lo debemos todo al `print('Hello World!')`"
   ]
  },
  {
   "cell_type": "markdown",
   "metadata": {},
   "source": [
    "#### Farcry 4"
   ]
  },
  {
   "cell_type": "markdown",
   "metadata": {},
   "source": [
    "😁"
   ]
  },
  {
   "cell_type": "code",
   "execution_count": 47,
   "metadata": {},
   "outputs": [
    {
     "name": "stdout",
     "output_type": "stream",
     "text": [
      "100\n",
      "200\n",
      "300\n",
      "400\n",
      "500\n",
      "600\n",
      "700\n",
      "800\n",
      "900\n",
      "1000\n",
      "1100\n",
      "1200\n",
      "1300\n",
      "1400\n",
      "1500\n",
      "1600\n",
      "1700\n",
      "1800\n",
      "1900\n",
      "2000\n"
     ]
    }
   ],
   "source": [
    "for i in range(100,2100,100):\n",
    "    print(i)"
   ]
  },
  {
   "cell_type": "code",
   "execution_count": 56,
   "metadata": {},
   "outputs": [
    {
     "name": "stdout",
     "output_type": "stream",
     "text": [
      "[]\n",
      "[1]\n"
     ]
    }
   ],
   "source": [
    "lista = []\n",
    "print(lista)\n",
    "lista.append(1)\n",
    "print(lista)"
   ]
  },
  {
   "cell_type": "code",
   "execution_count": 57,
   "metadata": {},
   "outputs": [],
   "source": [
    "tiempos_orden_directo = []\n",
    "tiempos_orden_inverso = []\n",
    "tiempos_orden_aleatorio = []"
   ]
  },
  {
   "cell_type": "code",
   "execution_count": null,
   "metadata": {},
   "outputs": [],
   "source": [
    "from time import perf_counter\n",
    "mi_bbdd = np.array(['','algorithm','time','n_elements'])\n",
    "for n in range(100,2100,100):\n",
    "    # ORDEN DIRECTO #\n",
    "    mi_lista = np.empty([n])\n",
    "    #np.append(mi_lista,range(10))\n",
    "    for i in range(n):\n",
    "        mi_lista[i] = i\n",
    "    mi_lista\n",
    "    t = perf_counter()\n",
    "    Insercion(mi_lista,n)\n",
    "    t = perf_counter() - t\n",
    "    \n",
    "\n",
    "\n",
    "    # ORDEN INVERSO #\n",
    "    mi_lista_invertida = np.empty([n])\n",
    "    #np.append(mi_lista,range(10))\n",
    "    j = 0\n",
    "    for i in reversed(range(n)):\n",
    "        mi_lista_invertida[j] = i\n",
    "        j += 1\n",
    "    mi_lista_invertida\n",
    "    # ORDEN ALEATORIO #\n",
    "    mi_lista_aleatoria = np.empty([n])\n",
    "    ya_he_puesto_estos = set()\n",
    "    #np.append(mi_lista,range(10))\n",
    "    CONTADOR_PARA_LA_SEMILLA = n\n",
    "    for i in range(n):\n",
    "        random.seed(CONTADOR_PARA_LA_SEMILLA)\n",
    "        CONTADOR_PARA_LA_SEMILLA += 1\n",
    "        valor_random = random.randrange(0,10)\n",
    "        while valor_random in ya_he_puesto_estos:\n",
    "            random.seed(CONTADOR_PARA_LA_SEMILLA)\n",
    "            CONTADOR_PARA_LA_SEMILLA += 1\n",
    "            valor_random = random.randrange(0,10)\n",
    "        mi_lista_aleatoria[valor_random] = i\n",
    "        ya_he_puesto_estos.add(valor_random)\n",
    "    print(ya_he_puesto_estos)\n",
    "    mi_lista_aleatoria"
   ]
  },
  {
   "cell_type": "code",
   "execution_count": 59,
   "metadata": {},
   "outputs": [],
   "source": [
    "np_array = np.array(['','algorithm','time','n_elements'])"
   ]
  },
  {
   "cell_type": "code",
   "execution_count": 60,
   "metadata": {},
   "outputs": [
    {
     "ename": "IndexError",
     "evalue": "too many indices for array: array is 1-dimensional, but 2 were indexed",
     "output_type": "error",
     "traceback": [
      "\u001b[1;31m---------------------------------------------------------------------------\u001b[0m",
      "\u001b[1;31mIndexError\u001b[0m                                Traceback (most recent call last)",
      "Cell \u001b[1;32mIn[60], line 2\u001b[0m\n\u001b[0;32m      1\u001b[0m df \u001b[38;5;241m=\u001b[39m pd\u001b[38;5;241m.\u001b[39mDataFrame(data\u001b[38;5;241m=\u001b[39mnp_array,\n\u001b[1;32m----> 2\u001b[0m                   index \u001b[38;5;241m=\u001b[39m \u001b[43mnp_array\u001b[49m\u001b[43m[\u001b[49m\u001b[38;5;241;43m1\u001b[39;49m\u001b[43m:\u001b[49m\u001b[43m,\u001b[49m\u001b[38;5;241;43m0\u001b[39;49m\u001b[43m]\u001b[49m,\n\u001b[0;32m      3\u001b[0m                   columns\u001b[38;5;241m=\u001b[39mnp_array[\u001b[38;5;241m0\u001b[39m,\u001b[38;5;241m1\u001b[39m:])\n",
      "\u001b[1;31mIndexError\u001b[0m: too many indices for array: array is 1-dimensional, but 2 were indexed"
     ]
    }
   ],
   "source": [
    "df = pd.DataFrame(data=np_array,\n",
    "                  index = np_array[1:,0],\n",
    "                  columns=np_array[0,1:])"
   ]
  },
  {
   "cell_type": "code",
   "execution_count": 61,
   "metadata": {},
   "outputs": [
    {
     "data": {
      "text/plain": [
       "'0'"
      ]
     },
     "execution_count": 61,
     "metadata": {},
     "output_type": "execute_result"
    }
   ],
   "source": [
    "str(0)"
   ]
  },
  {
   "cell_type": "code",
   "execution_count": 62,
   "metadata": {},
   "outputs": [],
   "source": [
    "mi_bb_dd = np.array([1,2])"
   ]
  },
  {
   "cell_type": "code",
   "execution_count": null,
   "metadata": {},
   "outputs": [],
   "source": []
  },
  {
   "cell_type": "code",
   "execution_count": 63,
   "metadata": {},
   "outputs": [
    {
     "data": {
      "text/plain": [
       "array([1, 2, 3, 4])"
      ]
     },
     "execution_count": 63,
     "metadata": {},
     "output_type": "execute_result"
    }
   ],
   "source": [
    "np.append(mi_bb_dd,[3,4])"
   ]
  },
  {
   "cell_type": "code",
   "execution_count": 64,
   "metadata": {},
   "outputs": [
    {
     "data": {
      "text/plain": [
       "array([1, 2])"
      ]
     },
     "execution_count": 64,
     "metadata": {},
     "output_type": "execute_result"
    }
   ],
   "source": [
    "mi_bb_dd"
   ]
  },
  {
   "cell_type": "code",
   "execution_count": 65,
   "metadata": {},
   "outputs": [
    {
     "data": {
      "text/plain": [
       "array([4, 6])"
      ]
     },
     "execution_count": 65,
     "metadata": {},
     "output_type": "execute_result"
    }
   ],
   "source": [
    "mi_bb_dd.__add__([3,4])"
   ]
  },
  {
   "cell_type": "code",
   "execution_count": 66,
   "metadata": {},
   "outputs": [
    {
     "data": {
      "text/plain": [
       "array([4, 6])"
      ]
     },
     "execution_count": 66,
     "metadata": {},
     "output_type": "execute_result"
    }
   ],
   "source": [
    "np.add(mi_bb_dd,[3,4])"
   ]
  },
  {
   "cell_type": "code",
   "execution_count": null,
   "metadata": {},
   "outputs": [],
   "source": [
    "mi_bb_dd."
   ]
  }
 ],
 "metadata": {
  "kernelspec": {
   "display_name": "Python 3",
   "language": "python",
   "name": "python3"
  },
  "language_info": {
   "codemirror_mode": {
    "name": "ipython",
    "version": 3
   },
   "file_extension": ".py",
   "mimetype": "text/x-python",
   "name": "python",
   "nbconvert_exporter": "python",
   "pygments_lexer": "ipython3",
   "version": "3.11.9"
  }
 },
 "nbformat": 4,
 "nbformat_minor": 2
}
