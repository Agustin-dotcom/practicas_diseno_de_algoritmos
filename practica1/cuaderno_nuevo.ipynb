{
 "cells": [
  {
   "cell_type": "markdown",
   "metadata": {},
   "source": [
    "# Práctica 1\n",
    "1. *Agustín* *Prieto*\n",
    "2. *Jesús* *Sanz*"
   ]
  },
  {
   "cell_type": "code",
   "execution_count": 155,
   "metadata": {},
   "outputs": [],
   "source": [
    "import matplotlib.pyplot as plt\n",
    "import pdb\n",
    "import random\n",
    "from time import time\n",
    "from time import perf_counter\n",
    "import numpy as np\n",
    "#!pip install pysnooper\n",
    "import pysnooper"
   ]
  },
  {
   "cell_type": "code",
   "execution_count": 156,
   "metadata": {},
   "outputs": [],
   "source": [
    "def Burbuja(a,n):\n",
    "    for i in range(1,n):\n",
    "        for j in range(0,n-i):\n",
    "            if(a[j] > a[j+1]):\n",
    "                k = a[j+1]\n",
    "                a[j+1] = a[j]\n",
    "                a[j] = k;"
   ]
  },
  {
   "cell_type": "code",
   "execution_count": 157,
   "metadata": {},
   "outputs": [],
   "source": [
    "def Insercion(a,n):\n",
    "    for i in range(1,n):\n",
    "        v=a[i]\n",
    "        j=i-1\n",
    "        while j >= 0 and a[j] > v:\n",
    "            a[j+1] = a[j]\n",
    "            j=j-1\n",
    "        a[j+1]=v"
   ]
  },
  {
   "cell_type": "code",
   "execution_count": 158,
   "metadata": {},
   "outputs": [],
   "source": [
    "def Seleccion(a,n):\n",
    "    for i in range(0,n-1):\n",
    "        min=i\n",
    "        for j in range(i+1,n):\n",
    "            if a[min] > a[j]:\n",
    "                min=j\n",
    "        aux=a[min]\n",
    "        a[min]=a[i]\n",
    "        a[i]=aux"
   ]
  },
  {
   "cell_type": "code",
   "execution_count": 159,
   "metadata": {},
   "outputs": [],
   "source": [
    "def QuickSort(a,iz,de):\n",
    "    i=iz\n",
    "    j=de\n",
    "    #\n",
    "    # Selección del pivote\n",
    "    # Elegir uno a descomentar\n",
    "    #\n",
    "    # Pivote en la mediana\n",
    "    #x=a[int((iz + de)/2)]\n",
    "    # Pivote en el lado izquierdo\n",
    "    x=a[iz]\n",
    " \n",
    "    while( i <= j ):\n",
    "        while a[i]<x and j<=de:\n",
    "            i=i+1\n",
    "        while x<a[j] and j>iz:\n",
    "            j=j-1\n",
    "        if i<=j:\n",
    "            aux = a[i]; a[i] = a[j]; a[j] = aux;\n",
    "            i=i+1;  j=j-1;\n",
    " \n",
    "    if iz < j:\n",
    "        QuickSort( a, iz, j );\n",
    "    if i < de:\n",
    "        QuickSort( a, i, de );"
   ]
  },
  {
   "cell_type": "code",
   "execution_count": 160,
   "metadata": {},
   "outputs": [],
   "source": [
    "def MergeSort(a,n):\n",
    "    if n>1:\n",
    "        m = n//2;\n",
    "        l = a[:m]\n",
    "        r = a[m:]\n",
    "\n",
    "        MergeSort(l,len(l))\n",
    "        MergeSort(r,len(r))\n",
    "\n",
    "        i=0; j=0; k=0\n",
    "        while i < len(l) and j < len(r):\n",
    "            if l[i] < r[j]:\n",
    "                a[k]=l[i]\n",
    "                i=i+1\n",
    "            else:\n",
    "                a[k]=r[j]\n",
    "                j=j+1\n",
    "            k=k+1\n",
    "\n",
    "        while i < len(l):\n",
    "            a[k]=l[i]\n",
    "            i=i+1\n",
    "            k=k+1\n",
    "\n",
    "        while j < len(r):\n",
    "            a[k]=r[j]\n",
    "            j=j+1\n",
    "            k=k+1"
   ]
  },
  {
   "cell_type": "code",
   "execution_count": 161,
   "metadata": {},
   "outputs": [],
   "source": [
    "def GeneraR(n):\n",
    "    a=[]\n",
    "    for i in range(0,n):\n",
    "        a.append(random.randrange(0, n, 1))\n",
    "    return a"
   ]
  },
  {
   "cell_type": "code",
   "execution_count": 162,
   "metadata": {},
   "outputs": [],
   "source": [
    "def GeneraD(n):\n",
    "    a=[]\n",
    "    for i in range(0,n):\n",
    "        a.append(i)\n",
    "    return a  "
   ]
  },
  {
   "cell_type": "code",
   "execution_count": 163,
   "metadata": {},
   "outputs": [],
   "source": [
    "def GeneraI(n):\n",
    "    a=[]\n",
    "    for i in range(0,n):\n",
    "        a.append(n-i)\n",
    "    return a   "
   ]
  },
  {
   "cell_type": "code",
   "execution_count": 164,
   "metadata": {},
   "outputs": [],
   "source": [
    "def imprime(a,n):\n",
    "    for i in range(0,n):\n",
    "        print (a[i])"
   ]
  },
  {
   "cell_type": "code",
   "execution_count": 165,
   "metadata": {},
   "outputs": [],
   "source": [
    "def experimento(n):\n",
    "        V_random_burbuja =[]  # RANDOM\n",
    "        V_random_seleccion = []\n",
    "        V_random_insercion = []\n",
    "        V_directo_burbuja =[]  # DIRECTO\n",
    "        V_directo_seleccion = []\n",
    "        V_directo_insercion = []\n",
    "        V_inverso_burbuja = []\n",
    "        V_inverso_seleccion = []\n",
    "        V_inverso_insercion = []\n",
    "        V1 =[]  # INVERSO\n",
    "        \n",
    "    # Orden directo\n",
    "        V2=GeneraD(n)\n",
    "    # Orden inverso\n",
    "        V3=GeneraI(n)\n",
    "    # Experimento aleatorio\n",
    "        tb = 0 # BURBUJA\n",
    "        ti = 0 # INSERCION\n",
    "        ts = 0 # SELECCION\n",
    "\n",
    "        V_random_burbuja_copy = [0,0,0,0,0,0,0,0,0,0]\n",
    "        V_random_insercion_copy = [0,0,0,0,0,0,0,0,0,0]\n",
    "        V_random_seleccion_copy = [0,0,0,0,0,0,0,0,0,0]\n",
    "\n",
    "        for _ in range(10):\n",
    "# Aleatorio. 10 experimentos\n",
    "# Realizar experimentos y completar las listas usando GeneraR(n)\n",
    "            V1 = GeneraR(n)\n",
    "            # BURBURJA\n",
    "            tb = perf_counter()\n",
    "            Burbuja(V1,n)\n",
    "            tb = perf_counter() - tb\n",
    "            V_random_burbuja.append(tb)\n",
    "            # INSERCION\n",
    "            ti = perf_counter()\n",
    "            Insercion(V1,n)\n",
    "            ti = perf_counter() - ti\n",
    "            V_random_insercion.append(ti)\n",
    "            # SELECCION\n",
    "            ts = perf_counter()\n",
    "            Seleccion(V1,n)\n",
    "            ts = perf_counter() - ts\n",
    "            V_random_seleccion.append(ts)\n",
    "            \n",
    "\n",
    "# Experimento directo\n",
    "        # BURBURJA\n",
    "        tb = perf_counter()\n",
    "        Burbuja(V2,n)\n",
    "        tb = perf_counter() - tb\n",
    "        V_directo_burbuja.append(tb)\n",
    "        # INSERCION\n",
    "        ti = perf_counter()\n",
    "        Insercion(V2,n)\n",
    "        ti = perf_counter() - ti\n",
    "        V_directo_insercion.append(ti)\n",
    "        # SELECCION\n",
    "        ts = perf_counter()\n",
    "        Seleccion(V2,n)\n",
    "        ts = perf_counter() - ts\n",
    "        V_directo_seleccion.append(ts)\n",
    "\n",
    "# Experimento inverso\n",
    "        # BURBURJA\n",
    "        tb = perf_counter()\n",
    "        Burbuja(V3,n)\n",
    "        tb = perf_counter() - tb\n",
    "        V_inverso_burbuja.append(tb)\n",
    "        # INSERCION\n",
    "        ti = perf_counter()\n",
    "        Insercion(V3,n)\n",
    "        ti = perf_counter() - ti\n",
    "        V_inverso_insercion.append(ti)\n",
    "        # SELECCION\n",
    "        ts = perf_counter()\n",
    "        Seleccion(V3,n)\n",
    "        ts = perf_counter() - ts\n",
    "        V_inverso_seleccion.append(ts)\n",
    "\n",
    "        return np.mean(np.array(V_random_burbuja)),np.mean(np.array(V_random_seleccion)),np.mean(np.array(V_random_insercion)),V_directo_burbuja,V_directo_seleccion,V_directo_insercion,V_inverso_burbuja,V_inverso_seleccion,V_inverso_insercion\n"
   ]
  },
  {
   "cell_type": "code",
   "execution_count": 166,
   "metadata": {},
   "outputs": [],
   "source": [
    "# Listas iniciales\n",
    "X  =[]\n",
    "TI1=[]\n",
    "TS1=[]  \n",
    "TB1=[]  \n",
    "TI2=[]\n",
    "TS2=[]  \n",
    "TB2=[] \n",
    "TI3=[]\n",
    "TS3=[]  \n",
    "TB3=[]  \n",
    "# Lista de tamaños\n",
    "Tam=[1, 2, 3, 4, 5, 6, 7, 8, 9, 10, 11, 12, 13, 14, 15, 16, 17, 18, 19, 20]\n",
    "# Rellenar las listas con los experimentos\n",
    "\n",
    "for i in Tam:\n",
    "    k = i*100\n",
    "    a,b,c,d,e,f,g,h,j = experimento(k)\n",
    "    TB1.append(a)\n",
    "    TS1.append(b)\n",
    "    TI1.append(c)\n",
    "    TB2.append(d)\n",
    "    TS2.append(e)\n",
    "    TI2.append(f)\n",
    "    TB3.append(g)\n",
    "    TS3.append(h)\n",
    "    TI3.append(j)\n",
    "# Presentar resultados"
   ]
  },
  {
   "cell_type": "code",
   "execution_count": 167,
   "metadata": {},
   "outputs": [
    {
     "data": {
      "image/png": "[encoded data removed]",
      "text/plain": [
       "<Figure size 640x480 with 1 Axes>"
      ]
     },
     "metadata": {},
     "output_type": "display_data"
    }
   ],
   "source": [
    "# Se imprimen las respectivas listas con pyplot\n",
    "plt.plot(Tam,TI1,'r--',Tam,TS1,'bs',Tam,TB1,'g^')\n",
    "plt.title('Burbuja')\n",
    "plt.ylabel('Tiempo (s)')\n",
    "plt.xlabel('Nodos (x 100)')\n",
    "plt.show()"
   ]
  },
  {
   "cell_type": "code",
   "execution_count": 168,
   "metadata": {},
   "outputs": [
    {
     "data": {
      "image/png": "[encoded data removed]",
      "text/plain": [
       "<Figure size 640x480 with 1 Axes>"
      ]
     },
     "metadata": {},
     "output_type": "display_data"
    }
   ],
   "source": [
    "plt.plot(Tam,TI2,'r--',Tam,TS2,'bs',Tam,TB2,'g^')\n",
    "plt.title('Inserción')\n",
    "plt.xlabel('Nodos (x 100)')\n",
    "plt.show()"
   ]
  },
  {
   "cell_type": "code",
   "execution_count": 169,
   "metadata": {},
   "outputs": [
    {
     "data": {
      "image/png": "[encoded data removed]",
      "text/plain": [
       "<Figure size 640x480 with 1 Axes>"
      ]
     },
     "metadata": {},
     "output_type": "display_data"
    },
    {
     "name": "stdout",
     "output_type": "stream",
     "text": [
      "[np.float64(2.7409993344917892e-05), np.float64(4.57499991171062e-05), np.float64(7.087999838404358e-05), np.float64(0.00011958999384660274), np.float64(6.0180004220455884e-05), np.float64(0.00011260000173933804), np.float64(7.773999823257327e-05), np.float64(0.0001256099989404902), np.float64(0.00019893999851774424), np.float64(0.00013918999757152052), np.float64(0.0001493099960498512), np.float64(0.00016925999952945858), np.float64(0.0001917999965371564), np.float64(0.0002727299957768992), np.float64(0.00016742000880185515), np.float64(0.0002352599985897541), np.float64(0.00026118000678252427), np.float64(0.00021965000487398357), np.float64(0.0002342899941140786), np.float64(0.00020127999887336044)] [1, 2, 3, 4, 5, 6, 7, 8, 9, 10, 11, 12, 13, 14, 15, 16, 17, 18, 19, 20]\n"
     ]
    }
   ],
   "source": [
    "plt.plot(Tam,TI3,'r--',Tam,TS3,'bs',Tam,TB3,'g^')\n",
    "plt.title('Selección')\n",
    "plt.ylabel('Tiempo (s)')\n",
    "plt.xlabel('Nodos (x 100)')\n",
    "plt.show()\n",
    "\n",
    "print(TI1,Tam)"
   ]
  }
 ],
 "metadata": {
  "kernelspec": {
   "display_name": "Python 3",
   "language": "python",
   "name": "python3"
  },
  "language_info": {
   "codemirror_mode": {
    "name": "ipython",
    "version": 3
   },
   "file_extension": ".py",
   "mimetype": "text/x-python",
   "name": "python",
   "nbconvert_exporter": "python",
   "pygments_lexer": "ipython3",
   "version": "3.11.9"
  }
 },
 "nbformat": 4,
 "nbformat_minor": 2
}
